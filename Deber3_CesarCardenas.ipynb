{
 "cells": [
  {
   "cell_type": "markdown",
   "id": "cae87a99",
   "metadata": {},
   "source": [
    "## Verdadero o falso con argumentos"
   ]
  },
  {
   "cell_type": "markdown",
   "id": "dd24dc62",
   "metadata": {},
   "source": [
    "### 1.  Una función recursiva resuelve un problema resolviendo una parte mas pequeña del mismo problema "
   ]
  },
  {
   "cell_type": "markdown",
   "id": "c936c431",
   "metadata": {},
   "source": [
    "# Verdadero\n",
    "En la recursividad llamamos a una funcion dentro de la funcion varias veces descompniendola hasta llegar a un punto basico\n",
    "Un ejemplo son las operaciones factoriales:\n",
    "5! es igual a 5*4! y de igual manera 4!=4*3!\n",
    "Por o que podemos seguir hasta llegar a un punto basico como 1! que es 1 "
   ]
  },
  {
   "cell_type": "markdown",
   "id": "691524e4",
   "metadata": {},
   "source": [
    "### 2.  Los modelos computacionales nos ayudan a analizar la complejidad de los algoritmos, ya que nos proveen de las especificaciones de la computadora en la cual estos se ejecutarían idealmente"
   ]
  },
  {
   "cell_type": "markdown",
   "id": "6b6a3718",
   "metadata": {},
   "source": [
    "# Verdadero\n",
    "Los modelos computacionales nos dan los costos de operacion tales como tiempo, momoria, etc.lo cual nos dicen especificaciones que el programa consume."
   ]
  },
  {
   "cell_type": "markdown",
   "id": "e5f602d1",
   "metadata": {},
   "source": [
    "### 3.  La búsqueda en un árbol binario de búsqueda es siempre mas rápida que la búsqueda lineal en un arreglo"
   ]
  },
  {
   "cell_type": "markdown",
   "id": "8e5abb27",
   "metadata": {},
   "source": [
    "# Verdadero\n",
    "Es mas eficiente ya que no se recorre todos los objetos porque hace una comparacion lo que de igual manera proporciona una busqueda mas ordenada, por ejemplo en sus peores casos no recorre todos los numeros, en cambio en el peor caso en un arreglo se recorreran todos los numeros."
   ]
  },
  {
   "cell_type": "markdown",
   "id": "a1fdae73",
   "metadata": {},
   "source": [
    "### 4. Un algoritmo de complejidad O(nlog(n)) es mas rápido que un algoritmo de complejidad O(n) "
   ]
  },
  {
   "cell_type": "markdown",
   "id": "276e56fd",
   "metadata": {},
   "source": [
    "# Falso\n",
    "Un algoritmo de complejidad O(nlog(n)) no es mas rapido que el algoritmo de complejidad O(n) ya que el O(n) es mucho mas rapido y si hacemos una comparacion el primero, es decir O(nlog(n)), tiene mayor complejidad.\n"
   ]
  },
  {
   "cell_type": "markdown",
   "id": "e296f8f9",
   "metadata": {},
   "source": [
    "### 5.  Un algoritmo de complejidad Ω(nlog(n)) es mas rápido que un algoritmo de complejidad Ω(n)"
   ]
  },
  {
   "cell_type": "markdown",
   "id": "752f0921",
   "metadata": {},
   "source": [
    "# Falso\n",
    "De igual forma que en el anterior y agregando que en este caso es Ω, podemos afirmar que una complejidad (n) seria mucho mas eficiente que una logaritmica."
   ]
  },
  {
   "cell_type": "markdown",
   "id": "d1446925",
   "metadata": {},
   "source": [
    "## Problemas de programación\n",
    "#### Todo el código debe ser en Python. Si se requiere escribir funciones que hagan búsqueda o ordenamiento (search, sort), programe las funciones usando los conceptos aprendidos en clase. No use las funciones que Python provee para hacer esto. "
   ]
  },
  {
   "cell_type": "markdown",
   "id": "4fb17ce9",
   "metadata": {},
   "source": [
    "### 6. Dada una lista enlazada que represente un número. Por ejemplo, 123 es representado por la lista 1->2->3 si la lista es simple o con doble enlace si es doble. Escriba un programa que haga lo siguiente:\n",
    "\n",
    "1. Reciba dos números A y B como input\n",
    "\n",
    "2. Transforme estos números a listas enlazadas como la definida arriba\n",
    "\n",
    "3. Implemente la resta de los números descritos por esas listas enlazadas. El resultado (A-B) debe ser almacenado en una lista enlazada.\n",
    "\n",
    "4. Imprima el resultado concatenando el valor de los nodos de la lista enlazada resultante\n",
    "\n",
    "Nota: asuma que el número A es mayor que B"
   ]
  },
  {
   "cell_type": "code",
   "execution_count": 7,
   "id": "9bc5dc62",
   "metadata": {},
   "outputs": [],
   "source": [
    "    def restTwoNumbers(sef,A,B):\n",
    "        List1=A.split()\n",
    "        List2=B.split()\n",
    "        prev = None\n",
    "        temp = None\n",
    "        carry = 0\n",
    "        while(List1 is not None or List2 is not None):\n",
    "\n",
    "            fdata = 0 if List1 is None else List1.data\n",
    "            sdata = 0 if List2 is None else List2.data\n",
    "            Sum = carry + fdata - sdata\n",
    "            carry = 1 if Sum > 10 else 0\n",
    "            Sum = Sum if Sum > 10 else Sum % 10\n",
    "\n",
    "            temp = Node(Sum)\n",
    "\n",
    "            if self.head is None:\n",
    "                self.head = temp\n",
    "            else:\n",
    "                prev.next = temp\n",
    "            prev = temp\n",
    "\n",
    "            if List1 is not None:\n",
    "                List1 = List1.next\n",
    "            if List2 is not None:\n",
    "                List2 = List2.next\n",
    " \n",
    "        if carry > 0:\n",
    "            temp.next = Node(carry)\n",
    " "
   ]
  },
  {
   "cell_type": "code",
   "execution_count": null,
   "id": "23e42b98",
   "metadata": {},
   "outputs": [],
   "source": []
  },
  {
   "cell_type": "markdown",
   "id": "ad6c65a4",
   "metadata": {},
   "source": [
    "### 7.  Cuando introducimos el concepto de pilas (stacks), usamos como ejemplos una pila de platos. Siguiendo con el ejemplo, una pila de platos con muchos platos se puede caer. Para evitar esto, se puede empezar una nueva pila.\n",
    "\n",
    "Implemente una clase de Python que defina un arreglo de stacks. La idea de tener este arreglo es que cuando un stack alcance su capacidad máxima, un nuevo stack empieza en el mismo arreglo. Las operación pop() debe retornar el mismo valor que lo haría si estuviéramos usando un stack simple. \n",
    "\n",
    "Nota: Debe definir los elementos de la clase: el arreglo de stacks, la capacidad del arreglo (# de stacks en el arreglo), la capacidad de cada stack (# de elementos que puede tener el stack). \n",
    "\n",
    "Hint: Cuando ingrese elementos (push), los elementos van al stack que este activo (el stack que recibe y retira elementos). Debe manejar las condiciones para cambiar el stack activo (cuando un push() deja al stack sin elementos, o cuando un pop() llena el stack)."
   ]
  },
  {
   "cell_type": "code",
   "execution_count": null,
   "id": "b357ff4f",
   "metadata": {},
   "outputs": [],
   "source": [
    "class Platos(object):\n",
    "    \n",
    "    def __init__(self,z, n):\n",
    "        while i<z:    \n",
    "        self[i-1].item_count = 0\n",
    "        self[i-1].n = n\n",
    "        self[i-1].stack = self[i-1]._create_stack(self.n)\n",
    "        \n",
    "def _create_plato(self, n):\n",
    "\n",
    "        return (n * ctypes.py_object)()\n",
    "    \n",
    "def push(self[n], item):\n",
    "\n",
    "        if self[n].item_count == self[n].n:\n",
    "            raise ValueError(\"no more capacity\")\n",
    "            self[n+1].stack[self[n].item_count] = item\n",
    "        self[n].stack[self[n].item_count] = item\n",
    "        self[n].item_count += 1    \n",
    "\n",
    "def pop(self[n]):\n",
    "        c = self[n].stack[self.item_count-1]\n",
    "        self[n].stack[self[n].item_count] = ctypes.py_object\n",
    "        self[n].item_count -= 1\n",
    "        return c    \n",
    "    \n",
    "    \n",
    "    "
   ]
  },
  {
   "cell_type": "markdown",
   "id": "b3d44802",
   "metadata": {},
   "source": [
    "### 8. Dada una cola con prioridad (PriorityQueue) que contiene elementos (k,v) donde k define la prioridad y v define el valor. Recuerde que los valores con menor k tienen mayor prioridad, es decir si tenemos dos elementos (k1, v1) y (k2, v2), v2 tiene preferencia para salir de la cola antes que v1 si k2< k1. Definimos algunas de las operaciones como siguen:\n",
    "\n",
    "```\n",
    "import ctypes\n",
    "\n",
    "class PriorityQueue(object):\n",
    "\n",
    "\"\"\"\n",
    "\n",
    "Implementation of the queue data structure\n",
    "\n",
    "\"\"\"\n",
    "\n",
    "def __init__(self, n):\n",
    "\n",
    "self.item_count = 0\n",
    "\n",
    "self.n = n\n",
    "\n",
    "self.queue = self._create_queue(self.n)\n",
    "\n",
    "def _create_queue(self, n):\n",
    "\n",
    "\"\"\"\n",
    "\n",
    "Creates a new stack of capacity n\n",
    "\n",
    "\"\"\"\n",
    "\n",
    "return (n * ctypes.py_object)()\n",
    "\n",
    "def dequeue(self):\n",
    "\n",
    "\"\"\"\n",
    "\n",
    "Remove an element from the queue\n",
    "\n",
    "\"\"\"\n",
    "\n",
    "c = self.queue[0]\n",
    "\n",
    "for i in range(1,self.item_count):\n",
    "\n",
    "self.queue[i-1] = self.queue[i]\n",
    "\n",
    "self.queue[self.item_count - 1] = ctypes.py_object\n",
    "\n",
    "self.item_count -= 1\n",
    "\n",
    "return c\n",
    "```\n",
    "\n",
    "### Implemente los métodos enqueue y decreaseKey, tal que ambos métodos tengan complejidad O(log(n)), sin utilizar funciones nativas de Python. Por ejemplo, si necesita hacer una búsqueda, no use la función de Python que implementa esto, programe la función usando for o while loops."
   ]
  },
  {
   "cell_type": "code",
   "execution_count": null,
   "id": "3d659ac3",
   "metadata": {},
   "outputs": [],
   "source": [
    "def enqueue(self, item):\n",
    "    \n",
    "        for item in len(self.queue):\n",
    "            item= self.queue[j]\n",
    "            i=j-1\n",
    "            \n",
    "            while i>0 and self.queue[i]>item:\n",
    "                self.queue[i+1]=self.queue[i]\n",
    "                i=i-1\n",
    "            self.queue[i+1]=item\n",
    "            \n",
    "        if self.item_count == self.n:\n",
    "            raise ValueError(\"Sin capacidad\")\n",
    "        self.queue[self.item_count] = item\n",
    "        \n",
    "        self.item_count ++\n",
    "        \n",
    "\n",
    "def decreaseKey(self,v,k):\n",
    "        I = 0\n",
    "        j=0\n",
    "        \n",
    "        for j in len(self.queue):\n",
    "            k= self.queue[j]\n",
    "            i=j-1\n",
    "            \n",
    "            while i>0 and self.queue[i]>k:\n",
    "                self.queue[i+1]=self.queue[i]\n",
    "                i=i-1\n",
    "            self.queue[i+1]=k\n",
    "        \n",
    "        while I < len(self.queue):\n",
    "            if self.queue[I][1] == v:\n",
    "                break\n",
    "            else:\n",
    "                I ++\n",
    "        if I == len(self.queue):\n",
    "            raise ValueError(\"Valor no encontrado\")\n",
    "        self.queue[I][0] = k"
   ]
  },
  {
   "cell_type": "markdown",
   "id": "3591936d",
   "metadata": {},
   "source": [
    "### 9. Tenemos un árbol binario (binary tree), definimos a un nodo X como rojo, si todos los nodos en el recorrido de la raiz al nodo X tienen un valor que es menor o igual a X. Por ejemplo, en el ejemplo de abajo:\n",
    "\n",
    "![](./binary_tree.png)\n",
    "\n",
    "El recorrido hacia el nodo 3 de la izquierda es 3 → 1 → 3, como todos los valores en este recorrido son menores o iguales a 3 (3=3 y 1<3), el nodo es rojo. Similarmente, en el sub-árbol de la derecha, los nodos 4 y 5 también son rojos. Escriba una función en Python que cuente el numero total de nodos rojos. El input de esta función es la raíz del árbol binario.\n",
    "\n",
    " "
   ]
  },
  {
   "cell_type": "code",
   "execution_count": null,
   "id": "7683148e",
   "metadata": {},
   "outputs": [],
   "source": [
    "def BusqM(root,value):\n",
    "    numero=0\n",
    "    \n",
    "    if root.value>=value:\n",
    "        numero++\n",
    "    \n",
    "    numero+=busqV(root.left,value)\n",
    "    \n",
    "    numero+=busqV(root.right,value)\n",
    "    \n",
    "    return numero"
   ]
  }
 ],
 "metadata": {
  "kernelspec": {
   "display_name": "Python 3",
   "language": "python",
   "name": "python3"
  },
  "language_info": {
   "codemirror_mode": {
    "name": "ipython",
    "version": 3
   },
   "file_extension": ".py",
   "mimetype": "text/x-python",
   "name": "python",
   "nbconvert_exporter": "python",
   "pygments_lexer": "ipython3",
   "version": "3.8.8"
  }
 },
 "nbformat": 4,
 "nbformat_minor": 5
}
